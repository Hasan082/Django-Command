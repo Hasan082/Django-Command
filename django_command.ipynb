{
 "cells": [
  {
   "cell_type": "markdown",
   "id": "ad204fd0-f6f1-473d-a58d-6181c48c37b4",
   "metadata": {},
   "source": [
    "# Django command"
   ]
  },
  {
   "cell_type": "markdown",
   "id": "79e04507-ad0f-4b5e-9b4f-ea738c99f022",
   "metadata": {},
   "source": [
    "### Check version:"
   ]
  },
  {
   "cell_type": "markdown",
   "id": "8c819a5f-fe47-46e3-a95d-f464f6a9d095",
   "metadata": {},
   "source": [
    "py --version"
   ]
  },
  {
   "cell_type": "markdown",
   "id": "8ac3ae59-d4f7-4278-afec-e174afc08d7f",
   "metadata": {},
   "source": [
    "## Create Virtual Environment"
   ]
  },
  {
   "cell_type": "code",
   "execution_count": 7,
   "id": "58c8f6a0-6191-4a22-9346-a9acaba02693",
   "metadata": {},
   "outputs": [],
   "source": [
    "# mkdir mydjango_project\n",
    "# cd mydjango_project"
   ]
  },
  {
   "cell_type": "code",
   "execution_count": 8,
   "id": "b91b6826-5a10-4ef9-b5cd-1cf87ced64b3",
   "metadata": {},
   "outputs": [],
   "source": [
    "# python -m venv venv"
   ]
  },
  {
   "cell_type": "markdown",
   "id": "7aefcd48-49a6-48d0-b191-bf4216c228fc",
   "metadata": {},
   "source": [
    "## Activate Virtual Environment"
   ]
  },
  {
   "cell_type": "code",
   "execution_count": 9,
   "id": "c5b37e93-82d5-456d-9cd9-4ec659993d7b",
   "metadata": {},
   "outputs": [],
   "source": [
    "# For Mac: venv\\Scripts\\activate\n",
    "# For windows: venv/Script/Activate"
   ]
  },
  {
   "cell_type": "markdown",
   "id": "07b905de-ada6-4a38-989e-bd17d85da94e",
   "metadata": {},
   "source": [
    "##  Install Django"
   ]
  },
  {
   "cell_type": "code",
   "execution_count": 11,
   "id": "1482c5f1-a260-4cba-8bd5-f3d8f360ab25",
   "metadata": {},
   "outputs": [],
   "source": [
    "# pip install django\n",
    "# Check django version: django-admin --version"
   ]
  },
  {
   "cell_type": "markdown",
   "id": "86778742-886d-4bee-9d6c-3afad7844f02",
   "metadata": {},
   "source": [
    "## Create Django Project"
   ]
  },
  {
   "cell_type": "code",
   "execution_count": 12,
   "id": "084faf95-dd40-43c4-8848-790936a7c223",
   "metadata": {},
   "outputs": [],
   "source": [
    "## django-admin startproject myproject  (include nested folder)\n",
    "## cd myproject\n",
    "# No nested folder\n",
    "## django-admin startproject myproject ."
   ]
  },
  {
   "cell_type": "markdown",
   "id": "0dc397df-894e-4bb1-b413-174077020d30",
   "metadata": {},
   "source": [
    "## python manage.py startapp myapp"
   ]
  },
  {
   "cell_type": "code",
   "execution_count": 13,
   "id": "6c78cef9-ee7a-44df-bb94-47b856dfb25d",
   "metadata": {},
   "outputs": [],
   "source": [
    "# python manage.py startapp myapp"
   ]
  },
  {
   "cell_type": "markdown",
   "id": "54b0a4f1-c08e-4ec1-9463-517e7e86cc4c",
   "metadata": {},
   "source": [
    "## Run Project"
   ]
  },
  {
   "cell_type": "code",
   "execution_count": null,
   "id": "2f33d945-be03-4317-89a7-16a98d2fc8a9",
   "metadata": {},
   "outputs": [],
   "source": [
    "# python manage.py runserver  # Just check django defaul server is running "
   ]
  },
  {
   "cell_type": "markdown",
   "id": "2c6dfdbc-cd83-41da-9c43-77918a1634d1",
   "metadata": {},
   "source": [
    "## Configure App, Write Basic Function, Run Server"
   ]
  },
  {
   "cell_type": "code",
   "execution_count": 15,
   "id": "f26e869e-5fdd-458c-b1df-a686b582b482",
   "metadata": {},
   "outputs": [],
   "source": [
    "# Open file: myproject/settings.py\n",
    "\n",
    "# Find INSTALLED_APPS list.\n",
    "\n",
    "# Add 'myapp', to it:\n",
    "\n",
    "# INSTALLED_APPS = [\n",
    "#     'django.contrib.admin',\n",
    "#     'django.contrib.auth',\n",
    "#     'django.contrib.contenttypes',\n",
    "#     'django.contrib.sessions',\n",
    "#     'django.contrib.messages',\n",
    "#     'django.contrib.staticfiles',\n",
    "#     'myapp',  # 👈 add this line, just same name as app you created\n",
    "# ]"
   ]
  },
  {
   "cell_type": "markdown",
   "id": "f95979a9-88d2-4890-846c-16371843da0b",
   "metadata": {},
   "source": [
    "## Write a Basic View (Function)"
   ]
  },
  {
   "cell_type": "code",
   "execution_count": 18,
   "id": "d89fc19c-3e5c-4690-843b-a986e3a05dc1",
   "metadata": {},
   "outputs": [],
   "source": [
    "# Open myapp/views.py\n",
    "\n",
    "# from django.http import HttpResponse\n",
    "\n",
    "# def home(request):\n",
    "#     return HttpResponse(\"Hello, Django Students!\")"
   ]
  },
  {
   "cell_type": "markdown",
   "id": "ef427180-ca50-4e43-abf5-22aa3b8319eb",
   "metadata": {},
   "source": [
    "## Configure URL to Run the Function"
   ]
  },
  {
   "cell_type": "code",
   "execution_count": 21,
   "id": "a41dd138-72e7-4e2b-9712-9ae7ce03f3fa",
   "metadata": {},
   "outputs": [],
   "source": [
    "# Open myproject/urls.py\n",
    "\n",
    "# from myapp import views\n",
    "# urlpatterns = [\n",
    "#     path('admin/', admin.site.urls),\n",
    "#     path('', views.home),  # 👈 Add this line for home page\n",
    "# ]"
   ]
  },
  {
   "cell_type": "markdown",
   "id": "800bc2c8-d480-4999-9b7d-85b862ac7f1c",
   "metadata": {},
   "source": [
    "## Run Django Development Server"
   ]
  },
  {
   "cell_type": "code",
   "execution_count": 22,
   "id": "d3f0a206-8315-4cf0-8ed2-5cc69fc101b5",
   "metadata": {},
   "outputs": [],
   "source": [
    "# python manage.py runserver"
   ]
  },
  {
   "cell_type": "code",
   "execution_count": null,
   "id": "6e757700-5ac6-4ad0-bb45-4a737cf6ace9",
   "metadata": {},
   "outputs": [],
   "source": []
  }
 ],
 "metadata": {
  "kernelspec": {
   "display_name": "Python 3 (ipykernel)",
   "language": "python",
   "name": "python3"
  },
  "language_info": {
   "codemirror_mode": {
    "name": "ipython",
    "version": 3
   },
   "file_extension": ".py",
   "mimetype": "text/x-python",
   "name": "python",
   "nbconvert_exporter": "python",
   "pygments_lexer": "ipython3",
   "version": "3.12.3"
  }
 },
 "nbformat": 4,
 "nbformat_minor": 5
}
