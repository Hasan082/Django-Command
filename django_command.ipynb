{
 "cells": [
  {
   "cell_type": "markdown",
   "id": "ad204fd0-f6f1-473d-a58d-6181c48c37b4",
   "metadata": {},
   "source": [
    "## Django command"
   ]
  },
  {
   "cell_type": "code",
   "execution_count": null,
   "id": "1386b584-b06c-43eb-bef3-07ffbbb4083b",
   "metadata": {},
   "outputs": [],
   "source": []
  }
 ],
 "metadata": {
  "kernelspec": {
   "display_name": "Python 3 (ipykernel)",
   "language": "python",
   "name": "python3"
  },
  "language_info": {
   "codemirror_mode": {
    "name": "ipython",
    "version": 3
   },
   "file_extension": ".py",
   "mimetype": "text/x-python",
   "name": "python",
   "nbconvert_exporter": "python",
   "pygments_lexer": "ipython3",
   "version": "3.12.3"
  }
 },
 "nbformat": 4,
 "nbformat_minor": 5
}
